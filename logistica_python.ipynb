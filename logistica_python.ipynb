{
  "cells": [
    {
      "cell_type": "markdown",
      "metadata": {
        "id": "view-in-github",
        "colab_type": "text"
      },
      "source": [
        "Rode o notebook no Google Colab<br>",
        "<a href=\"https://colab.research.google.com/github/p-alcadi/logistica-python/blob/main/logistica_python.ipynb\" target=\"_parent\"><img src=\"https://colab.research.google.com/assets/colab-badge.svg\" alt=\"Open In Colab\"/></a>"
      ]
    },
    {
      "cell_type": "code",
      "execution_count": 11,
      "metadata": {
        "id": "P5Qa__07AH9n"
      },
      "outputs": [],
      "source": [
        "## Problema do Caixeiro-Viajante (PCV)\n",
        "# O PCV visa determinar a menor rota entre localidades, sendo crucial para setores como de logística. Este projeto tem como objetivo implementar em Python métodos de solução do PCV e compará-los graficamente.\n",
        "\n",
        "# Nota: Esta é uma expansão de um projeto anterior, no qual usei Nearest Neighbor em Excel e VBA para resolver um problema logístico durante o processo seletivo da Voll Júnior, onde sou Diretor de Projetos.\n",
        "\n",
        "# ✅ Importar a base de dados de endereços do Kaggle;\n",
        "# ✅ Transformar a base de dados;\n",
        "# ✅ Converter os endereços para coordenadas geográficas;\n",
        "# ✅ Calcular as distâncias geográficas entre cada par de endereços;\n",
        "# ✅ Montar a matriz de distâncias (matriz quadrada contendo as distâncias entre todos os pares);\n",
        "# ✅ Solucionar com o método Brute Force;\n",
        "# ✅ Solucionar com o método Nearest Neighbor (NN);\n",
        "# [ ] Solucionar com o método Branch and Bound;\n",
        "# [ ] Solucionar com o método do Algoritmo de Christofides;\n",
        "# [2/4] Comparar graficamente cada solução."
      ]
    },
    {
      "cell_type": "code",
      "execution_count": 12,
      "metadata": {
        "id": "O2InA4MmAH9s"
      },
      "outputs": [],
      "source": [
        "# Importação das bilbiotecas necessárias\n",
        "import csv\n",
        "from timeit import default_timer as timer\n",
        "from itertools import permutations\n",
        "import kagglehub\n",
        "import requests\n",
        "import time\n",
        "import urllib.parse\n",
        "import plotly.express as px\n",
        "from plotly.subplots import make_subplots\n",
        "import pandas as pd"
      ]
    },
    {
      "cell_type": "code",
      "execution_count": 13,
      "metadata": {
        "id": "rxrLHKUzAH9v"
      },
      "outputs": [],
      "source": [
        "######################################## Funções ################################################\n",
        "# Define uma função para buscar as coordenadas de cada endereço na API Nominatim\n",
        "def geocode(address):\n",
        "    headers = {\"User-Agent\": \"Mozilla/5.0 (compatible; AcmeInc/1.0)\"}\n",
        "    api_url = \"https://nominatim.openstreetmap.org/search?q=\" + urllib.parse.quote_plus(address) + \"&format=json\"\n",
        "    response = requests.get(api_url, headers=headers)\n",
        "\n",
        "    # Retorna uma exception caso a API não envie uma status de OK.\n",
        "    try:\n",
        "        response.raise_for_status()\n",
        "    except requests.exceptions.HTTPError as error:\n",
        "        print(str(error))\n",
        "        return \"Error:\" + str(error)\n",
        "\n",
        "    # A API retorna um JSON contendo todas as coordenadas compatíveis com o endereço fornecido.\n",
        "    # A entrada [0] é o endereço mais próximo do fornecido.\n",
        "    json = response.json()\n",
        "\n",
        "    # Dormindo por 1.1 segundo para respeitar a política de uso da API Nominatim (máximo de um acesso por segundo)\n",
        "    time.sleep(1.1)\n",
        "\n",
        "    # Verifica se o json está vazio.\n",
        "    # Caso esteja, significa que a API não encontrou nenhuma coordenada para o endereço fornecido.\n",
        "    if not json:\n",
        "        # Caso a API não encontrar o endereço fornecido, retorna False.\n",
        "        return False\n",
        "    else:\n",
        "        # Caso a API encontrar o endereço fornecido, retorna um vetor com as coordenadas do primeiro resultado da busca.\n",
        "        return \",\".join([json[0][\"lon\"], json[0][\"lat\"]])\n",
        "\n",
        "# Função que usa a API OSRM para buscar a matriz de distâncias de uma lista de endereços\n",
        "def get_dmatrix(addresses):\n",
        "    headers = {\"User-Agent\": \"Mozilla/5.0 (compatible; AcmeInc/1.0)\"}\n",
        "    api_url = \"http://router.project-osrm.org/table/v1/driving/\" + \";\".join(addresses) + \"?annotations=distance\"\n",
        "    response = requests.get(api_url, headers=headers)\n",
        "\n",
        "    # Retorna uma exception caso a API não envie uma status de OK.\n",
        "    try:\n",
        "        response.raise_for_status()\n",
        "    except requests.exceptions.HTTPError as error:\n",
        "        return \"Error:\" + str(error)\n",
        "\n",
        "    return response.json()\n",
        "\n",
        "# Função para calcular a distância total de uma rota, tomada como um vetor contendo, em ordem, os índices de cada endereço\n",
        "# Exemplo: o vetor [5, 3, 4, 1, 7, 0, 2, 6] representa a rota que vai do endereço 5 para o 3, para o 4 e assim por diante\n",
        "def total_route_dist(route):\n",
        "    total_dist = 0\n",
        "    size = len(route)\n",
        "\n",
        "    for i in range(size):\n",
        "        current_address = route[i]\n",
        "        next_address = route[(i + 1) % size]\n",
        "        total_dist += dist_dict[current_address][next_address]\n",
        "\n",
        "    return total_dist"
      ]
    },
    {
      "cell_type": "code",
      "execution_count": 14,
      "metadata": {
        "id": "-gThhSntAH9y",
        "colab": {
          "base_uri": "https://localhost:8080/"
        },
        "outputId": "52bb1d43-fc4f-4c1b-8208-7c2bfbbf6d86"
      },
      "outputs": [
        {
          "output_type": "stream",
          "name": "stdout",
          "text": [
            "['255 W Main St', 'Avon', 'CT', '6001', '-72.8525413,41.8106959', '-72.8525413', '41.8106959']\n",
            "['120 Commercial Parkway', 'Branford', 'CT', '6405', '-72.83094094104487,41.28122705', '-72.83094094104487', '41.28122705']\n",
            "['1400 Farmington Ave', 'Bristol', 'CT', '6010', '-72.8969051,41.6974111', '-72.8969051', '41.6974111']\n",
            "['161 Berlin Road', 'Cromwell', 'CT', '6416', '-72.71182941157579,41.60546575', '-72.71182941157579', '41.60546575']\n",
            "['656 New Haven Ave', 'Derby', 'CT', '6418', '-73.05204965554864,41.313733049999996', '-73.05204965554864', '41.313733049999996']\n",
            "['69 Prospect Hill Road', 'East Windsor', 'CT', '6088', '-72.6076253,41.9232537', '-72.6076253', '41.9232537']\n",
            "['150 Gold Star Hwy', 'Groton', 'CT', '6340', '-72.06496641715536,41.36986815', '-72.06496641715536', '41.36986815']\n",
            "['900 Boston Post Road', 'Guilford', 'CT', '6437', '-72.67932773780274,41.288426230185785', '-72.67932773780274', '41.288426230185785']\n",
            "['2300 Dixwell Ave', 'Hamden', 'CT', '6514', '-72.9184196,41.3739316', '-72.9184196', '41.3739316']\n",
            "['495 Flatbush Ave', 'Hartford', 'CT', '6106', '-72.71258493148994,41.74244365933154', '-72.71258493148994', '41.74244365933154']\n",
            "['180 River Rd', 'Lisbon', 'CT', '6351', '-71.9897192,41.5835873', '-71.9897192', '41.5835873']\n",
            "['420 Buckland Hills Dr', 'Manchester', 'CT', '6040', '-72.5377596778994,41.80670935', '-72.5377596778994', '41.80670935']\n"
          ]
        }
      ],
      "source": [
        "# Importa o dataset de endereços do Kagglehub\n",
        "# Colunas: address, city, state, zip\n",
        "path = kagglehub.dataset_download(\"ahmedshahriarsakib/list-of-real-usa-addresses\", path=\"list_of_real_usa_addresses.csv\")\n",
        "data = []\n",
        "with open(path) as file:\n",
        "    reader = csv.reader(file)\n",
        "    for line in reader:\n",
        "        data.append(line)\n",
        "\n",
        "# Filtra os endereços, selecionando apenas os de Connecticut\n",
        "data_ct = [x for x in data if x[2] == \"CT\"]\n",
        "\n",
        "# Reduz o dataset para economizar tempo\n",
        "data_ct = data_ct[0:13]\n",
        "\n",
        "# Para cada linha, concatena as colunas em uma só string e alimenta na função geocode, adicionando o valor retornado em uma nova coluna\n",
        "data_ct = [x + [geocode(\", \".join([y for y in x]))] for x in data_ct]\n",
        "\n",
        "# Remove os endereços não encontrados\n",
        "data_ct = [x for x in data_ct if x[4] != False]\n",
        "\n",
        "# Separa a coluna coords em uma coluna de longitudes e uma coluna de latitudes\n",
        "data_ct = [x + x[4].split(\",\") for x in data_ct]\n",
        "\n",
        "for row in data_ct:\n",
        "    print(row)"
      ]
    },
    {
      "cell_type": "code",
      "execution_count": 15,
      "metadata": {
        "id": "_NJkpfgYAH90",
        "colab": {
          "base_uri": "https://localhost:8080/"
        },
        "outputId": "3abb62f1-aab4-4ff9-9e7e-d7152407a879"
      },
      "outputs": [
        {
          "output_type": "stream",
          "name": "stdout",
          "text": [
            "[inf, 72284.5, 17760.2, 38481.9, 69106.3, 37127.3, 93659.5, 80746.8, 54787.2, 18293.8, 90595, 31613.4]\n",
            "[72580.9, inf, 58522.9, 49800.2, 22236.6, 89354.9, 70612.6, 14860.5, 18920.9, 65140.1, 94117.7, 80060.6]\n",
            "[17504.2, 58475.7, inf, 24009.8, 55297.5, 44186.9, 99827.5, 66938, 40978.3, 18183.3, 96834.4, 37852.7]\n",
            "[39037.6, 49782.9, 23107.7, inf, 48184.7, 42143.3, 75710.9, 47622.3, 34754.4, 19148, 83517.2, 32849]\n",
            "[70195.6, 21911.8, 56137.6, 48840, inf, 88394.7, 89954.8, 34202.6, 15260.3, 64196.9, 113459.9, 78331.1]\n",
            "[37523.2, 90399.7, 45487.9, 42674.5, 88801.5, inf, 97817.2, 88239.1, 75371.2, 26803, 94752.8, 18099.4]\n",
            "[93668.7, 70717.3, 98729.6, 75565.6, 90225, 96773.5, inf, 57483.7, 86909.2, 81757.7, 37770.6, 77033.3]\n",
            "[81487.4, 15834.3, 67429.4, 48667.3, 35342, 81474.2, 56785.1, inf, 32026.3, 64007.2, 80290.2, 72179.9]\n",
            "[54820.3, 19002.6, 40762.3, 34376.7, 14728.6, 73931.3, 87045.6, 31293.4, inf, 49733.5, 98374.5, 63867.7]\n",
            "[18319.2, 65162.3, 20576.5, 19404.3, 63531.9, 26036.7, 81748.7, 63001.7, 50101.6, inf, 78684.3, 19702.6]\n",
            "[88904.4, 94134.9, 95678.3, 71959.2, 113642.6, 92009.2, 38241.5, 80901.3, 98423.1, 76993.4, inf, 72269]\n",
            "[31360.1, 80078.2, 38134, 32353.1, 78480, 18085.2, 77190.9, 77917.7, 65049.7, 19449.1, 74126.5, inf]\n"
          ]
        }
      ],
      "source": [
        "# Usa a função get_dmatrix para buscar a matriz de distâncias dos endereços fornecidos e transforma em um dataframe\n",
        "matrix_json = get_dmatrix([x[4] for x in data_ct])\n",
        "dist_dict  = {}\n",
        "\n",
        "# Guarda a matrix de distâncias em um dicionário, para guardas os índices de cada ponto\n",
        "i = 0\n",
        "for row in matrix_json[\"distances\"]:\n",
        "  # Para cada linha, transforma o zero da diagonal principal em infinito, para facilitar os cálculos, e guarda no dicionário\n",
        "  dist_dict[i] = [float(\"inf\") if dist == 0 else dist for dist in row]\n",
        "  i += 1\n",
        "\n",
        "for key in dist_dict:\n",
        "  print(dist_dict[key])"
      ]
    },
    {
      "cell_type": "code",
      "execution_count": 16,
      "metadata": {
        "id": "fSnTfvQSAH92"
      },
      "outputs": [],
      "source": [
        "# cria um dicionário para guardar os resultados de cada método de solução\n",
        "solutions = {}"
      ]
    },
    {
      "cell_type": "code",
      "execution_count": 17,
      "metadata": {
        "id": "M8BklY4HAH93"
      },
      "outputs": [],
      "source": [
        "############################################## Brute Force #####################################################\n",
        "# O método Brute Force é o mais simples e é o único que rende uma solução exata.\n",
        "# Entretanto, por requerer o cálculo de todas as rotas possíveis, é o método menos eficiente.\n",
        "# O tempo de resolução cresce fatorialmente a cada endereço adicional.\n",
        "\n",
        "solutions[\"brute_force\"] = {}\n",
        "solutions[\"brute_force\"][\"calculated_route\"] = []\n",
        "solutions[\"brute_force\"][\"route_dist\"] = []\n",
        "solutions[\"brute_force\"][\"time_taken\"] = []\n",
        "solutions[\"brute_force\"][\"error\"] = []\n",
        "\n",
        "starting_point = 2\n",
        "\n",
        "for key in dist_dict:\n",
        "    if key >= 3:\n",
        "        # Define uma \"menor distância\" infinita para fins de comparação com as distâncias totais de cada rota\n",
        "        # A cada comparação em que a distância total da rota é menor do que a \"menor distância\", a distância mínima recebe o valor da distâncai total da rota\n",
        "        menor_dist = float(\"inf\")\n",
        "        route = None\n",
        "\n",
        "        # Obtém todas os vetores de todas as permutações entre endereços, representando cada rota diferente\n",
        "        perms = permutations(list(range(key)))\n",
        "\n",
        "        # Para cada permutação em perms, compara a distância total da rota com a menor_dist\n",
        "        # Se a distância total da rota for menor do que menor_dist, menor_dist recebe o valor da distância total da rota\n",
        "        # O objetivo disso é encontrar a rota que tem a menor distância total e guardar no dicionário de resultados\n",
        "        start = timer()\n",
        "        for perm in perms:\n",
        "            if perm[0] == starting_point:\n",
        "              route_dist = total_route_dist(perm)\n",
        "              if route_dist < menor_dist:\n",
        "                  menor_dist = route_dist\n",
        "                  route = perm\n",
        "        end = timer()\n",
        "\n",
        "        solutions[\"brute_force\"][\"calculated_route\"].append(list(route))\n",
        "        solutions[\"brute_force\"][\"route_dist\"].append(menor_dist / 1000)\n",
        "        solutions[\"brute_force\"][\"time_taken\"].append(end - start)\n",
        "        solutions[\"brute_force\"][\"error\"].append(0)\n"
      ]
    },
    {
      "cell_type": "code",
      "execution_count": 18,
      "metadata": {
        "id": "sesLhU5MAH96"
      },
      "outputs": [],
      "source": [
        "################################## Nearest Neighbor #########################################\n",
        "starting_point = 2\n",
        "\n",
        "solutions[\"nn\"] = {}\n",
        "solutions[\"nn\"][\"calculated_route\"] = []\n",
        "solutions[\"nn\"][\"route_dist\"] = []\n",
        "solutions[\"nn\"][\"time_taken\"] = []\n",
        "solutions[\"nn\"][\"error\"] = []\n",
        "\n",
        "for i in range(len(dist_dict)):\n",
        "  if i >= 3:\n",
        "    truncated_dict = dict(list(dist_dict.items())[:i])\n",
        "\n",
        "    for row_i in truncated_dict:\n",
        "      truncated_dict[row_i] = [item for item_i, item in enumerate(truncated_dict[row_i]) if item_i < i]\n",
        "\n",
        "    curr_point = starting_point\n",
        "    route = []\n",
        "    route.append(curr_point)\n",
        "    total_dist = 0\n",
        "\n",
        "    start = timer()\n",
        "    while len(route) < len(truncated_dict):\n",
        "      nearest_p = None\n",
        "      nearest_dist = float(\"inf\")\n",
        "      for destination, dist in enumerate(truncated_dict[curr_point]):\n",
        "        if destination not in route:\n",
        "          if dist < nearest_dist:\n",
        "            nearest_dist = dist\n",
        "            curr_point = destination\n",
        "\n",
        "      total_dist += nearest_dist\n",
        "      route.append(curr_point)\n",
        "    end = timer()\n",
        "\n",
        "    total_dist += dist_dict[route[-1]][route[0]]\n",
        "\n",
        "    solutions[\"nn\"][\"calculated_route\"].append(route)\n",
        "    solutions[\"nn\"][\"route_dist\"].append(total_dist / 1000)\n",
        "    solutions[\"nn\"][\"time_taken\"].append(end - start)\n",
        "    solutions[\"nn\"][\"error\"].append((solutions[\"nn\"][\"route_dist\"][i - 3] - solutions[\"brute_force\"][\"route_dist\"][i - 3]) * 100 / solutions[\"brute_force\"][\"route_dist\"][i - 3])"
      ]
    },
    {
      "cell_type": "code",
      "source": [
        "df_time = pd.DataFrame({\"Brute Force\": solutions[\"brute_force\"][\"time_taken\"],\n",
        "                   \"NN\": solutions[\"nn\"][\"time_taken\"]}, [i for i in range(3, len(solutions[\"brute_force\"][\"time_taken\"]) + 3)])\n",
        "\n",
        "df_error = pd.DataFrame({\"Brute Force\": solutions[\"brute_force\"][\"error\"],\n",
        "                   \"NN\": solutions[\"nn\"][\"error\"]}, [i for i in range(3, len(solutions[\"brute_force\"][\"error\"]) + 3)])\n",
        "\n",
        "fig = make_subplots(rows=1, cols=2)\n",
        "\n",
        "fig_time = px.line(df_time,\n",
        "                   title=\"Tempo de resolução de cada método\",\n",
        "                   labels = {\"value\": \"Tempo (s)\", \"index\": \"Número de pontos\", \"variable\": \"Método\"},\n",
        "                   width=600,\n",
        "                   height=350)\n",
        "\n",
        "fig_error = px.line(df_error,\n",
        "                    title=\"Erro relativo de cada método\",\n",
        "                    labels = {\"value\": \"Erro relativo (%)\", \"index\": \"Número de pontos\", \"variable\": \"Método\"},\n",
        "                    width=600,\n",
        "                    height=350)\n",
        "\n",
        "fig_time.show()\n",
        "fig_error.show()"
      ],
      "metadata": {
        "id": "BxWt2MZOlDD6",
        "colab": {
          "base_uri": "https://localhost:8080/",
          "height": 717
        },
        "outputId": "f4c1e1e0-fae4-453f-d9d4-a0865182e519"
      },
      "execution_count": 19,
      "outputs": [
        {
          "output_type": "display_data",
          "data": {
            "text/html": [
              "<html>\n",
              "<head><meta charset=\"utf-8\" /></head>\n",
              "<body>\n",
              "    <div>            <script src=\"https://cdnjs.cloudflare.com/ajax/libs/mathjax/2.7.5/MathJax.js?config=TeX-AMS-MML_SVG\"></script><script type=\"text/javascript\">if (window.MathJax && window.MathJax.Hub && window.MathJax.Hub.Config) {window.MathJax.Hub.Config({SVG: {font: \"STIX-Web\"}});}</script>                <script type=\"text/javascript\">window.PlotlyConfig = {MathJaxConfig: 'local'};</script>\n",
              "        <script charset=\"utf-8\" src=\"https://cdn.plot.ly/plotly-2.35.2.min.js\"></script>                <div id=\"a006980b-d9c3-464d-b03c-71a2face7949\" class=\"plotly-graph-div\" style=\"height:350px; width:600px;\"></div>            <script type=\"text/javascript\">                                    window.PLOTLYENV=window.PLOTLYENV || {};                                    if (document.getElementById(\"a006980b-d9c3-464d-b03c-71a2face7949\")) {                    Plotly.newPlot(                        \"a006980b-d9c3-464d-b03c-71a2face7949\",                        [{\"hovertemplate\":\"Método=Brute Force\\u003cbr\\u003eNúmero de pontos=%{x}\\u003cbr\\u003eTempo (s)=%{y}\\u003cextra\\u003e\\u003c\\u002fextra\\u003e\",\"legendgroup\":\"Brute Force\",\"line\":{\"color\":\"#636efa\",\"dash\":\"solid\"},\"marker\":{\"symbol\":\"circle\"},\"mode\":\"lines\",\"name\":\"Brute Force\",\"orientation\":\"v\",\"showlegend\":true,\"x\":[3,4,5,6,7,8,9,10,11],\"xaxis\":\"x\",\"y\":[0.000014061000001674984,0.000021651999986715964,0.00009102100000291102,0.0005301669999653313,0.002571295000052487,0.01854787699994631,0.137118815000008,1.4045014609999953,16.251120526000022],\"yaxis\":\"y\",\"type\":\"scatter\"},{\"hovertemplate\":\"Método=NN\\u003cbr\\u003eNúmero de pontos=%{x}\\u003cbr\\u003eTempo (s)=%{y}\\u003cextra\\u003e\\u003c\\u002fextra\\u003e\",\"legendgroup\":\"NN\",\"line\":{\"color\":\"#EF553B\",\"dash\":\"solid\"},\"marker\":{\"symbol\":\"circle\"},\"mode\":\"lines\",\"name\":\"NN\",\"orientation\":\"v\",\"showlegend\":true,\"x\":[3,4,5,6,7,8,9,10,11],\"xaxis\":\"x\",\"y\":[7.915999958640896e-6,5.737000037697726e-6,7.647999950677331e-6,0.000010264000025017594,0.000015074999964781455,0.00001695099990683957,0.00002064299997073249,0.00002498699996067444,0.000029810999990331766],\"yaxis\":\"y\",\"type\":\"scatter\"}],                        {\"template\":{\"data\":{\"histogram2dcontour\":[{\"type\":\"histogram2dcontour\",\"colorbar\":{\"outlinewidth\":0,\"ticks\":\"\"},\"colorscale\":[[0.0,\"#0d0887\"],[0.1111111111111111,\"#46039f\"],[0.2222222222222222,\"#7201a8\"],[0.3333333333333333,\"#9c179e\"],[0.4444444444444444,\"#bd3786\"],[0.5555555555555556,\"#d8576b\"],[0.6666666666666666,\"#ed7953\"],[0.7777777777777778,\"#fb9f3a\"],[0.8888888888888888,\"#fdca26\"],[1.0,\"#f0f921\"]]}],\"choropleth\":[{\"type\":\"choropleth\",\"colorbar\":{\"outlinewidth\":0,\"ticks\":\"\"}}],\"histogram2d\":[{\"type\":\"histogram2d\",\"colorbar\":{\"outlinewidth\":0,\"ticks\":\"\"},\"colorscale\":[[0.0,\"#0d0887\"],[0.1111111111111111,\"#46039f\"],[0.2222222222222222,\"#7201a8\"],[0.3333333333333333,\"#9c179e\"],[0.4444444444444444,\"#bd3786\"],[0.5555555555555556,\"#d8576b\"],[0.6666666666666666,\"#ed7953\"],[0.7777777777777778,\"#fb9f3a\"],[0.8888888888888888,\"#fdca26\"],[1.0,\"#f0f921\"]]}],\"heatmap\":[{\"type\":\"heatmap\",\"colorbar\":{\"outlinewidth\":0,\"ticks\":\"\"},\"colorscale\":[[0.0,\"#0d0887\"],[0.1111111111111111,\"#46039f\"],[0.2222222222222222,\"#7201a8\"],[0.3333333333333333,\"#9c179e\"],[0.4444444444444444,\"#bd3786\"],[0.5555555555555556,\"#d8576b\"],[0.6666666666666666,\"#ed7953\"],[0.7777777777777778,\"#fb9f3a\"],[0.8888888888888888,\"#fdca26\"],[1.0,\"#f0f921\"]]}],\"heatmapgl\":[{\"type\":\"heatmapgl\",\"colorbar\":{\"outlinewidth\":0,\"ticks\":\"\"},\"colorscale\":[[0.0,\"#0d0887\"],[0.1111111111111111,\"#46039f\"],[0.2222222222222222,\"#7201a8\"],[0.3333333333333333,\"#9c179e\"],[0.4444444444444444,\"#bd3786\"],[0.5555555555555556,\"#d8576b\"],[0.6666666666666666,\"#ed7953\"],[0.7777777777777778,\"#fb9f3a\"],[0.8888888888888888,\"#fdca26\"],[1.0,\"#f0f921\"]]}],\"contourcarpet\":[{\"type\":\"contourcarpet\",\"colorbar\":{\"outlinewidth\":0,\"ticks\":\"\"}}],\"contour\":[{\"type\":\"contour\",\"colorbar\":{\"outlinewidth\":0,\"ticks\":\"\"},\"colorscale\":[[0.0,\"#0d0887\"],[0.1111111111111111,\"#46039f\"],[0.2222222222222222,\"#7201a8\"],[0.3333333333333333,\"#9c179e\"],[0.4444444444444444,\"#bd3786\"],[0.5555555555555556,\"#d8576b\"],[0.6666666666666666,\"#ed7953\"],[0.7777777777777778,\"#fb9f3a\"],[0.8888888888888888,\"#fdca26\"],[1.0,\"#f0f921\"]]}],\"surface\":[{\"type\":\"surface\",\"colorbar\":{\"outlinewidth\":0,\"ticks\":\"\"},\"colorscale\":[[0.0,\"#0d0887\"],[0.1111111111111111,\"#46039f\"],[0.2222222222222222,\"#7201a8\"],[0.3333333333333333,\"#9c179e\"],[0.4444444444444444,\"#bd3786\"],[0.5555555555555556,\"#d8576b\"],[0.6666666666666666,\"#ed7953\"],[0.7777777777777778,\"#fb9f3a\"],[0.8888888888888888,\"#fdca26\"],[1.0,\"#f0f921\"]]}],\"mesh3d\":[{\"type\":\"mesh3d\",\"colorbar\":{\"outlinewidth\":0,\"ticks\":\"\"}}],\"scatter\":[{\"fillpattern\":{\"fillmode\":\"overlay\",\"size\":10,\"solidity\":0.2},\"type\":\"scatter\"}],\"parcoords\":[{\"type\":\"parcoords\",\"line\":{\"colorbar\":{\"outlinewidth\":0,\"ticks\":\"\"}}}],\"scatterpolargl\":[{\"type\":\"scatterpolargl\",\"marker\":{\"colorbar\":{\"outlinewidth\":0,\"ticks\":\"\"}}}],\"bar\":[{\"error_x\":{\"color\":\"#2a3f5f\"},\"error_y\":{\"color\":\"#2a3f5f\"},\"marker\":{\"line\":{\"color\":\"#E5ECF6\",\"width\":0.5},\"pattern\":{\"fillmode\":\"overlay\",\"size\":10,\"solidity\":0.2}},\"type\":\"bar\"}],\"scattergeo\":[{\"type\":\"scattergeo\",\"marker\":{\"colorbar\":{\"outlinewidth\":0,\"ticks\":\"\"}}}],\"scatterpolar\":[{\"type\":\"scatterpolar\",\"marker\":{\"colorbar\":{\"outlinewidth\":0,\"ticks\":\"\"}}}],\"histogram\":[{\"marker\":{\"pattern\":{\"fillmode\":\"overlay\",\"size\":10,\"solidity\":0.2}},\"type\":\"histogram\"}],\"scattergl\":[{\"type\":\"scattergl\",\"marker\":{\"colorbar\":{\"outlinewidth\":0,\"ticks\":\"\"}}}],\"scatter3d\":[{\"type\":\"scatter3d\",\"line\":{\"colorbar\":{\"outlinewidth\":0,\"ticks\":\"\"}},\"marker\":{\"colorbar\":{\"outlinewidth\":0,\"ticks\":\"\"}}}],\"scattermapbox\":[{\"type\":\"scattermapbox\",\"marker\":{\"colorbar\":{\"outlinewidth\":0,\"ticks\":\"\"}}}],\"scatterternary\":[{\"type\":\"scatterternary\",\"marker\":{\"colorbar\":{\"outlinewidth\":0,\"ticks\":\"\"}}}],\"scattercarpet\":[{\"type\":\"scattercarpet\",\"marker\":{\"colorbar\":{\"outlinewidth\":0,\"ticks\":\"\"}}}],\"carpet\":[{\"aaxis\":{\"endlinecolor\":\"#2a3f5f\",\"gridcolor\":\"white\",\"linecolor\":\"white\",\"minorgridcolor\":\"white\",\"startlinecolor\":\"#2a3f5f\"},\"baxis\":{\"endlinecolor\":\"#2a3f5f\",\"gridcolor\":\"white\",\"linecolor\":\"white\",\"minorgridcolor\":\"white\",\"startlinecolor\":\"#2a3f5f\"},\"type\":\"carpet\"}],\"table\":[{\"cells\":{\"fill\":{\"color\":\"#EBF0F8\"},\"line\":{\"color\":\"white\"}},\"header\":{\"fill\":{\"color\":\"#C8D4E3\"},\"line\":{\"color\":\"white\"}},\"type\":\"table\"}],\"barpolar\":[{\"marker\":{\"line\":{\"color\":\"#E5ECF6\",\"width\":0.5},\"pattern\":{\"fillmode\":\"overlay\",\"size\":10,\"solidity\":0.2}},\"type\":\"barpolar\"}],\"pie\":[{\"automargin\":true,\"type\":\"pie\"}]},\"layout\":{\"autotypenumbers\":\"strict\",\"colorway\":[\"#636efa\",\"#EF553B\",\"#00cc96\",\"#ab63fa\",\"#FFA15A\",\"#19d3f3\",\"#FF6692\",\"#B6E880\",\"#FF97FF\",\"#FECB52\"],\"font\":{\"color\":\"#2a3f5f\"},\"hovermode\":\"closest\",\"hoverlabel\":{\"align\":\"left\"},\"paper_bgcolor\":\"white\",\"plot_bgcolor\":\"#E5ECF6\",\"polar\":{\"bgcolor\":\"#E5ECF6\",\"angularaxis\":{\"gridcolor\":\"white\",\"linecolor\":\"white\",\"ticks\":\"\"},\"radialaxis\":{\"gridcolor\":\"white\",\"linecolor\":\"white\",\"ticks\":\"\"}},\"ternary\":{\"bgcolor\":\"#E5ECF6\",\"aaxis\":{\"gridcolor\":\"white\",\"linecolor\":\"white\",\"ticks\":\"\"},\"baxis\":{\"gridcolor\":\"white\",\"linecolor\":\"white\",\"ticks\":\"\"},\"caxis\":{\"gridcolor\":\"white\",\"linecolor\":\"white\",\"ticks\":\"\"}},\"coloraxis\":{\"colorbar\":{\"outlinewidth\":0,\"ticks\":\"\"}},\"colorscale\":{\"sequential\":[[0.0,\"#0d0887\"],[0.1111111111111111,\"#46039f\"],[0.2222222222222222,\"#7201a8\"],[0.3333333333333333,\"#9c179e\"],[0.4444444444444444,\"#bd3786\"],[0.5555555555555556,\"#d8576b\"],[0.6666666666666666,\"#ed7953\"],[0.7777777777777778,\"#fb9f3a\"],[0.8888888888888888,\"#fdca26\"],[1.0,\"#f0f921\"]],\"sequentialminus\":[[0.0,\"#0d0887\"],[0.1111111111111111,\"#46039f\"],[0.2222222222222222,\"#7201a8\"],[0.3333333333333333,\"#9c179e\"],[0.4444444444444444,\"#bd3786\"],[0.5555555555555556,\"#d8576b\"],[0.6666666666666666,\"#ed7953\"],[0.7777777777777778,\"#fb9f3a\"],[0.8888888888888888,\"#fdca26\"],[1.0,\"#f0f921\"]],\"diverging\":[[0,\"#8e0152\"],[0.1,\"#c51b7d\"],[0.2,\"#de77ae\"],[0.3,\"#f1b6da\"],[0.4,\"#fde0ef\"],[0.5,\"#f7f7f7\"],[0.6,\"#e6f5d0\"],[0.7,\"#b8e186\"],[0.8,\"#7fbc41\"],[0.9,\"#4d9221\"],[1,\"#276419\"]]},\"xaxis\":{\"gridcolor\":\"white\",\"linecolor\":\"white\",\"ticks\":\"\",\"title\":{\"standoff\":15},\"zerolinecolor\":\"white\",\"automargin\":true,\"zerolinewidth\":2},\"yaxis\":{\"gridcolor\":\"white\",\"linecolor\":\"white\",\"ticks\":\"\",\"title\":{\"standoff\":15},\"zerolinecolor\":\"white\",\"automargin\":true,\"zerolinewidth\":2},\"scene\":{\"xaxis\":{\"backgroundcolor\":\"#E5ECF6\",\"gridcolor\":\"white\",\"linecolor\":\"white\",\"showbackground\":true,\"ticks\":\"\",\"zerolinecolor\":\"white\",\"gridwidth\":2},\"yaxis\":{\"backgroundcolor\":\"#E5ECF6\",\"gridcolor\":\"white\",\"linecolor\":\"white\",\"showbackground\":true,\"ticks\":\"\",\"zerolinecolor\":\"white\",\"gridwidth\":2},\"zaxis\":{\"backgroundcolor\":\"#E5ECF6\",\"gridcolor\":\"white\",\"linecolor\":\"white\",\"showbackground\":true,\"ticks\":\"\",\"zerolinecolor\":\"white\",\"gridwidth\":2}},\"shapedefaults\":{\"line\":{\"color\":\"#2a3f5f\"}},\"annotationdefaults\":{\"arrowcolor\":\"#2a3f5f\",\"arrowhead\":0,\"arrowwidth\":1},\"geo\":{\"bgcolor\":\"white\",\"landcolor\":\"#E5ECF6\",\"subunitcolor\":\"white\",\"showland\":true,\"showlakes\":true,\"lakecolor\":\"white\"},\"title\":{\"x\":0.05},\"mapbox\":{\"style\":\"light\"}}},\"xaxis\":{\"anchor\":\"y\",\"domain\":[0.0,1.0],\"title\":{\"text\":\"Número de pontos\"}},\"yaxis\":{\"anchor\":\"x\",\"domain\":[0.0,1.0],\"title\":{\"text\":\"Tempo (s)\"}},\"legend\":{\"title\":{\"text\":\"Método\"},\"tracegroupgap\":0},\"title\":{\"text\":\"Tempo de resolução de cada método\"},\"height\":350,\"width\":600},                        {\"responsive\": true}                    ).then(function(){\n",
              "                            \n",
              "var gd = document.getElementById('a006980b-d9c3-464d-b03c-71a2face7949');\n",
              "var x = new MutationObserver(function (mutations, observer) {{\n",
              "        var display = window.getComputedStyle(gd).display;\n",
              "        if (!display || display === 'none') {{\n",
              "            console.log([gd, 'removed!']);\n",
              "            Plotly.purge(gd);\n",
              "            observer.disconnect();\n",
              "        }}\n",
              "}});\n",
              "\n",
              "// Listen for the removal of the full notebook cells\n",
              "var notebookContainer = gd.closest('#notebook-container');\n",
              "if (notebookContainer) {{\n",
              "    x.observe(notebookContainer, {childList: true});\n",
              "}}\n",
              "\n",
              "// Listen for the clearing of the current output cell\n",
              "var outputEl = gd.closest('.output');\n",
              "if (outputEl) {{\n",
              "    x.observe(outputEl, {childList: true});\n",
              "}}\n",
              "\n",
              "                        })                };                            </script>        </div>\n",
              "</body>\n",
              "</html>"
            ]
          },
          "metadata": {}
        },
        {
          "output_type": "display_data",
          "data": {
            "text/html": [
              "<html>\n",
              "<head><meta charset=\"utf-8\" /></head>\n",
              "<body>\n",
              "    <div>            <script src=\"https://cdnjs.cloudflare.com/ajax/libs/mathjax/2.7.5/MathJax.js?config=TeX-AMS-MML_SVG\"></script><script type=\"text/javascript\">if (window.MathJax && window.MathJax.Hub && window.MathJax.Hub.Config) {window.MathJax.Hub.Config({SVG: {font: \"STIX-Web\"}});}</script>                <script type=\"text/javascript\">window.PlotlyConfig = {MathJaxConfig: 'local'};</script>\n",
              "        <script charset=\"utf-8\" src=\"https://cdn.plot.ly/plotly-2.35.2.min.js\"></script>                <div id=\"6c0edb93-3df8-4aa6-be5b-502699aa3081\" class=\"plotly-graph-div\" style=\"height:350px; width:600px;\"></div>            <script type=\"text/javascript\">                                    window.PLOTLYENV=window.PLOTLYENV || {};                                    if (document.getElementById(\"6c0edb93-3df8-4aa6-be5b-502699aa3081\")) {                    Plotly.newPlot(                        \"6c0edb93-3df8-4aa6-be5b-502699aa3081\",                        [{\"hovertemplate\":\"Método=Brute Force\\u003cbr\\u003eNúmero de pontos=%{x}\\u003cbr\\u003eErro relativo (%)=%{y}\\u003cextra\\u003e\\u003c\\u002fextra\\u003e\",\"legendgroup\":\"Brute Force\",\"line\":{\"color\":\"#636efa\",\"dash\":\"solid\"},\"marker\":{\"symbol\":\"circle\"},\"mode\":\"lines\",\"name\":\"Brute Force\",\"orientation\":\"v\",\"showlegend\":true,\"x\":[3,4,5,6,7,8,9,10,11],\"xaxis\":\"x\",\"y\":[0.0,0.0,0.0,0.0,0.0,0.0,0.0,0.0,0.0],\"yaxis\":\"y\",\"type\":\"scatter\"},{\"hovertemplate\":\"Método=NN\\u003cbr\\u003eNúmero de pontos=%{x}\\u003cbr\\u003eErro relativo (%)=%{y}\\u003cextra\\u003e\\u003c\\u002fextra\\u003e\",\"legendgroup\":\"NN\",\"line\":{\"color\":\"#EF553B\",\"dash\":\"solid\"},\"marker\":{\"symbol\":\"circle\"},\"mode\":\"lines\",\"name\":\"NN\",\"orientation\":\"v\",\"showlegend\":true,\"x\":[3,4,5,6,7,8,9,10,11],\"xaxis\":\"x\",\"y\":[0.0,0.9805367782731662,1.7501496443260234,0.6635293237008925,6.303795933906554,16.9519535016022,6.257742306579815,4.674513830395547,3.908116068949688],\"yaxis\":\"y\",\"type\":\"scatter\"}],                        {\"template\":{\"data\":{\"histogram2dcontour\":[{\"type\":\"histogram2dcontour\",\"colorbar\":{\"outlinewidth\":0,\"ticks\":\"\"},\"colorscale\":[[0.0,\"#0d0887\"],[0.1111111111111111,\"#46039f\"],[0.2222222222222222,\"#7201a8\"],[0.3333333333333333,\"#9c179e\"],[0.4444444444444444,\"#bd3786\"],[0.5555555555555556,\"#d8576b\"],[0.6666666666666666,\"#ed7953\"],[0.7777777777777778,\"#fb9f3a\"],[0.8888888888888888,\"#fdca26\"],[1.0,\"#f0f921\"]]}],\"choropleth\":[{\"type\":\"choropleth\",\"colorbar\":{\"outlinewidth\":0,\"ticks\":\"\"}}],\"histogram2d\":[{\"type\":\"histogram2d\",\"colorbar\":{\"outlinewidth\":0,\"ticks\":\"\"},\"colorscale\":[[0.0,\"#0d0887\"],[0.1111111111111111,\"#46039f\"],[0.2222222222222222,\"#7201a8\"],[0.3333333333333333,\"#9c179e\"],[0.4444444444444444,\"#bd3786\"],[0.5555555555555556,\"#d8576b\"],[0.6666666666666666,\"#ed7953\"],[0.7777777777777778,\"#fb9f3a\"],[0.8888888888888888,\"#fdca26\"],[1.0,\"#f0f921\"]]}],\"heatmap\":[{\"type\":\"heatmap\",\"colorbar\":{\"outlinewidth\":0,\"ticks\":\"\"},\"colorscale\":[[0.0,\"#0d0887\"],[0.1111111111111111,\"#46039f\"],[0.2222222222222222,\"#7201a8\"],[0.3333333333333333,\"#9c179e\"],[0.4444444444444444,\"#bd3786\"],[0.5555555555555556,\"#d8576b\"],[0.6666666666666666,\"#ed7953\"],[0.7777777777777778,\"#fb9f3a\"],[0.8888888888888888,\"#fdca26\"],[1.0,\"#f0f921\"]]}],\"heatmapgl\":[{\"type\":\"heatmapgl\",\"colorbar\":{\"outlinewidth\":0,\"ticks\":\"\"},\"colorscale\":[[0.0,\"#0d0887\"],[0.1111111111111111,\"#46039f\"],[0.2222222222222222,\"#7201a8\"],[0.3333333333333333,\"#9c179e\"],[0.4444444444444444,\"#bd3786\"],[0.5555555555555556,\"#d8576b\"],[0.6666666666666666,\"#ed7953\"],[0.7777777777777778,\"#fb9f3a\"],[0.8888888888888888,\"#fdca26\"],[1.0,\"#f0f921\"]]}],\"contourcarpet\":[{\"type\":\"contourcarpet\",\"colorbar\":{\"outlinewidth\":0,\"ticks\":\"\"}}],\"contour\":[{\"type\":\"contour\",\"colorbar\":{\"outlinewidth\":0,\"ticks\":\"\"},\"colorscale\":[[0.0,\"#0d0887\"],[0.1111111111111111,\"#46039f\"],[0.2222222222222222,\"#7201a8\"],[0.3333333333333333,\"#9c179e\"],[0.4444444444444444,\"#bd3786\"],[0.5555555555555556,\"#d8576b\"],[0.6666666666666666,\"#ed7953\"],[0.7777777777777778,\"#fb9f3a\"],[0.8888888888888888,\"#fdca26\"],[1.0,\"#f0f921\"]]}],\"surface\":[{\"type\":\"surface\",\"colorbar\":{\"outlinewidth\":0,\"ticks\":\"\"},\"colorscale\":[[0.0,\"#0d0887\"],[0.1111111111111111,\"#46039f\"],[0.2222222222222222,\"#7201a8\"],[0.3333333333333333,\"#9c179e\"],[0.4444444444444444,\"#bd3786\"],[0.5555555555555556,\"#d8576b\"],[0.6666666666666666,\"#ed7953\"],[0.7777777777777778,\"#fb9f3a\"],[0.8888888888888888,\"#fdca26\"],[1.0,\"#f0f921\"]]}],\"mesh3d\":[{\"type\":\"mesh3d\",\"colorbar\":{\"outlinewidth\":0,\"ticks\":\"\"}}],\"scatter\":[{\"fillpattern\":{\"fillmode\":\"overlay\",\"size\":10,\"solidity\":0.2},\"type\":\"scatter\"}],\"parcoords\":[{\"type\":\"parcoords\",\"line\":{\"colorbar\":{\"outlinewidth\":0,\"ticks\":\"\"}}}],\"scatterpolargl\":[{\"type\":\"scatterpolargl\",\"marker\":{\"colorbar\":{\"outlinewidth\":0,\"ticks\":\"\"}}}],\"bar\":[{\"error_x\":{\"color\":\"#2a3f5f\"},\"error_y\":{\"color\":\"#2a3f5f\"},\"marker\":{\"line\":{\"color\":\"#E5ECF6\",\"width\":0.5},\"pattern\":{\"fillmode\":\"overlay\",\"size\":10,\"solidity\":0.2}},\"type\":\"bar\"}],\"scattergeo\":[{\"type\":\"scattergeo\",\"marker\":{\"colorbar\":{\"outlinewidth\":0,\"ticks\":\"\"}}}],\"scatterpolar\":[{\"type\":\"scatterpolar\",\"marker\":{\"colorbar\":{\"outlinewidth\":0,\"ticks\":\"\"}}}],\"histogram\":[{\"marker\":{\"pattern\":{\"fillmode\":\"overlay\",\"size\":10,\"solidity\":0.2}},\"type\":\"histogram\"}],\"scattergl\":[{\"type\":\"scattergl\",\"marker\":{\"colorbar\":{\"outlinewidth\":0,\"ticks\":\"\"}}}],\"scatter3d\":[{\"type\":\"scatter3d\",\"line\":{\"colorbar\":{\"outlinewidth\":0,\"ticks\":\"\"}},\"marker\":{\"colorbar\":{\"outlinewidth\":0,\"ticks\":\"\"}}}],\"scattermapbox\":[{\"type\":\"scattermapbox\",\"marker\":{\"colorbar\":{\"outlinewidth\":0,\"ticks\":\"\"}}}],\"scatterternary\":[{\"type\":\"scatterternary\",\"marker\":{\"colorbar\":{\"outlinewidth\":0,\"ticks\":\"\"}}}],\"scattercarpet\":[{\"type\":\"scattercarpet\",\"marker\":{\"colorbar\":{\"outlinewidth\":0,\"ticks\":\"\"}}}],\"carpet\":[{\"aaxis\":{\"endlinecolor\":\"#2a3f5f\",\"gridcolor\":\"white\",\"linecolor\":\"white\",\"minorgridcolor\":\"white\",\"startlinecolor\":\"#2a3f5f\"},\"baxis\":{\"endlinecolor\":\"#2a3f5f\",\"gridcolor\":\"white\",\"linecolor\":\"white\",\"minorgridcolor\":\"white\",\"startlinecolor\":\"#2a3f5f\"},\"type\":\"carpet\"}],\"table\":[{\"cells\":{\"fill\":{\"color\":\"#EBF0F8\"},\"line\":{\"color\":\"white\"}},\"header\":{\"fill\":{\"color\":\"#C8D4E3\"},\"line\":{\"color\":\"white\"}},\"type\":\"table\"}],\"barpolar\":[{\"marker\":{\"line\":{\"color\":\"#E5ECF6\",\"width\":0.5},\"pattern\":{\"fillmode\":\"overlay\",\"size\":10,\"solidity\":0.2}},\"type\":\"barpolar\"}],\"pie\":[{\"automargin\":true,\"type\":\"pie\"}]},\"layout\":{\"autotypenumbers\":\"strict\",\"colorway\":[\"#636efa\",\"#EF553B\",\"#00cc96\",\"#ab63fa\",\"#FFA15A\",\"#19d3f3\",\"#FF6692\",\"#B6E880\",\"#FF97FF\",\"#FECB52\"],\"font\":{\"color\":\"#2a3f5f\"},\"hovermode\":\"closest\",\"hoverlabel\":{\"align\":\"left\"},\"paper_bgcolor\":\"white\",\"plot_bgcolor\":\"#E5ECF6\",\"polar\":{\"bgcolor\":\"#E5ECF6\",\"angularaxis\":{\"gridcolor\":\"white\",\"linecolor\":\"white\",\"ticks\":\"\"},\"radialaxis\":{\"gridcolor\":\"white\",\"linecolor\":\"white\",\"ticks\":\"\"}},\"ternary\":{\"bgcolor\":\"#E5ECF6\",\"aaxis\":{\"gridcolor\":\"white\",\"linecolor\":\"white\",\"ticks\":\"\"},\"baxis\":{\"gridcolor\":\"white\",\"linecolor\":\"white\",\"ticks\":\"\"},\"caxis\":{\"gridcolor\":\"white\",\"linecolor\":\"white\",\"ticks\":\"\"}},\"coloraxis\":{\"colorbar\":{\"outlinewidth\":0,\"ticks\":\"\"}},\"colorscale\":{\"sequential\":[[0.0,\"#0d0887\"],[0.1111111111111111,\"#46039f\"],[0.2222222222222222,\"#7201a8\"],[0.3333333333333333,\"#9c179e\"],[0.4444444444444444,\"#bd3786\"],[0.5555555555555556,\"#d8576b\"],[0.6666666666666666,\"#ed7953\"],[0.7777777777777778,\"#fb9f3a\"],[0.8888888888888888,\"#fdca26\"],[1.0,\"#f0f921\"]],\"sequentialminus\":[[0.0,\"#0d0887\"],[0.1111111111111111,\"#46039f\"],[0.2222222222222222,\"#7201a8\"],[0.3333333333333333,\"#9c179e\"],[0.4444444444444444,\"#bd3786\"],[0.5555555555555556,\"#d8576b\"],[0.6666666666666666,\"#ed7953\"],[0.7777777777777778,\"#fb9f3a\"],[0.8888888888888888,\"#fdca26\"],[1.0,\"#f0f921\"]],\"diverging\":[[0,\"#8e0152\"],[0.1,\"#c51b7d\"],[0.2,\"#de77ae\"],[0.3,\"#f1b6da\"],[0.4,\"#fde0ef\"],[0.5,\"#f7f7f7\"],[0.6,\"#e6f5d0\"],[0.7,\"#b8e186\"],[0.8,\"#7fbc41\"],[0.9,\"#4d9221\"],[1,\"#276419\"]]},\"xaxis\":{\"gridcolor\":\"white\",\"linecolor\":\"white\",\"ticks\":\"\",\"title\":{\"standoff\":15},\"zerolinecolor\":\"white\",\"automargin\":true,\"zerolinewidth\":2},\"yaxis\":{\"gridcolor\":\"white\",\"linecolor\":\"white\",\"ticks\":\"\",\"title\":{\"standoff\":15},\"zerolinecolor\":\"white\",\"automargin\":true,\"zerolinewidth\":2},\"scene\":{\"xaxis\":{\"backgroundcolor\":\"#E5ECF6\",\"gridcolor\":\"white\",\"linecolor\":\"white\",\"showbackground\":true,\"ticks\":\"\",\"zerolinecolor\":\"white\",\"gridwidth\":2},\"yaxis\":{\"backgroundcolor\":\"#E5ECF6\",\"gridcolor\":\"white\",\"linecolor\":\"white\",\"showbackground\":true,\"ticks\":\"\",\"zerolinecolor\":\"white\",\"gridwidth\":2},\"zaxis\":{\"backgroundcolor\":\"#E5ECF6\",\"gridcolor\":\"white\",\"linecolor\":\"white\",\"showbackground\":true,\"ticks\":\"\",\"zerolinecolor\":\"white\",\"gridwidth\":2}},\"shapedefaults\":{\"line\":{\"color\":\"#2a3f5f\"}},\"annotationdefaults\":{\"arrowcolor\":\"#2a3f5f\",\"arrowhead\":0,\"arrowwidth\":1},\"geo\":{\"bgcolor\":\"white\",\"landcolor\":\"#E5ECF6\",\"subunitcolor\":\"white\",\"showland\":true,\"showlakes\":true,\"lakecolor\":\"white\"},\"title\":{\"x\":0.05},\"mapbox\":{\"style\":\"light\"}}},\"xaxis\":{\"anchor\":\"y\",\"domain\":[0.0,1.0],\"title\":{\"text\":\"Número de pontos\"}},\"yaxis\":{\"anchor\":\"x\",\"domain\":[0.0,1.0],\"title\":{\"text\":\"Erro relativo (%)\"}},\"legend\":{\"title\":{\"text\":\"Método\"},\"tracegroupgap\":0},\"title\":{\"text\":\"Erro relativo de cada método\"},\"height\":350,\"width\":600},                        {\"responsive\": true}                    ).then(function(){\n",
              "                            \n",
              "var gd = document.getElementById('6c0edb93-3df8-4aa6-be5b-502699aa3081');\n",
              "var x = new MutationObserver(function (mutations, observer) {{\n",
              "        var display = window.getComputedStyle(gd).display;\n",
              "        if (!display || display === 'none') {{\n",
              "            console.log([gd, 'removed!']);\n",
              "            Plotly.purge(gd);\n",
              "            observer.disconnect();\n",
              "        }}\n",
              "}});\n",
              "\n",
              "// Listen for the removal of the full notebook cells\n",
              "var notebookContainer = gd.closest('#notebook-container');\n",
              "if (notebookContainer) {{\n",
              "    x.observe(notebookContainer, {childList: true});\n",
              "}}\n",
              "\n",
              "// Listen for the clearing of the current output cell\n",
              "var outputEl = gd.closest('.output');\n",
              "if (outputEl) {{\n",
              "    x.observe(outputEl, {childList: true});\n",
              "}}\n",
              "\n",
              "                        })                };                            </script>        </div>\n",
              "</body>\n",
              "</html>"
            ]
          },
          "metadata": {}
        }
      ]
    },
    {
      "cell_type": "code",
      "execution_count": 20,
      "metadata": {
        "id": "eQGpk_4GAH97"
      },
      "outputs": [],
      "source": [
        "################################## Branch and Bound #########################################\n",
        "\n",
        "#reduction_elements = []\n",
        "\n",
        "# Em cada linha, subtrai de todos as distâncias a distância mínima daquela linha\n",
        "# E registra todas as distâncias minimas em `reduction_elements`\n",
        "#row_reduced = [[y - min(x) for y in x] for x in dist_matrix_inf]\n",
        "#reduction_elements += [min(x) for x in dist_matrix_inf if min(x) != 0]\n",
        "#transposed_row_reduced = [[row[i] for row in row_reduced] for i in range(len(row_reduced[0]))]\n",
        "\n",
        "# Em cada coluna, subtrai de todos as distâncias a distância mínima daquela coluna\n",
        "# E registra todas as distâncias minimas em `reduction_elements`\n",
        "#reduction_elements += [min(x) for x in transposed_row_reduced if min(x) != 0]\n",
        "#transposed_col_reduced = [[y - min(x) for y in x] for x in transposed_row_reduced]\n",
        "#col_reduced = [[row[i] for row in transposed_col_reduced] for i in range(len(transposed_col_reduced[0]))]\n",
        "\n",
        "#upper_bound = float(\"inf\")\n",
        "#lower_bound = sum(reduction_elements)\n",
        "\n"
      ]
    }
  ],
  "metadata": {
    "kernelspec": {
      "display_name": "Python 3",
      "language": "python",
      "name": "python3"
    },
    "language_info": {
      "codemirror_mode": {
        "name": "ipython",
        "version": 3
      },
      "file_extension": ".py",
      "mimetype": "text/x-python",
      "name": "python",
      "nbconvert_exporter": "python",
      "pygments_lexer": "ipython3",
      "version": "3.11.10"
    },
    "colab": {
      "provenance": [],
      "include_colab_link": true
    }
  },
  "nbformat": 4,
  "nbformat_minor": 0
}
